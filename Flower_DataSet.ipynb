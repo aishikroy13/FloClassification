{
 "cells": [
  {
   "cell_type": "code",
   "execution_count": 2,
   "metadata": {},
   "outputs": [
    {
     "name": "stdout",
     "output_type": "stream",
     "text": [
      "Flower Dataset Data Preparation\n"
     ]
    }
   ],
   "source": [
    "import numpy as np\n",
    "import pandas as pd \n",
    "import zipfile\n",
    "\n",
    "import cv2\n",
    "import os\n",
    "import random\n",
    "import matplotlib.pylab as plt\n",
    "from glob import glob\n",
    "\n",
    "\n",
    "from sklearn.model_selection import train_test_split\n",
    "\n",
    "print(\"Flower Dataset Data Preparation\")"
   ]
  },
  {
   "cell_type": "code",
   "execution_count": 3,
   "metadata": {},
   "outputs": [
    {
     "name": "stdout",
     "output_type": "stream",
     "text": [
      "Reading images from the following directories:\n",
      "daisy\n",
      "dandelion\n",
      "rose\n",
      "sunflower\n",
      "tulip\n",
      "\n"
     ]
    }
   ],
   "source": [
    "print(\"Reading images from the following directories:\")\n",
    "from subprocess import check_output\n",
    "print(check_output([\"ls\", \"/home/aishikroy13/flowers\"]).decode(\"utf8\"))"
   ]
  },
  {
   "cell_type": "code",
   "execution_count": 4,
   "metadata": {},
   "outputs": [],
   "source": [
    "labels = []\n",
    "flowers = []\n",
    "total = 0\n",
    "PATH = os.path.abspath(os.path.join('..', 'input', 'flowers', 'flowers'))"
   ]
  },
  {
   "cell_type": "code",
   "execution_count": 6,
   "metadata": {},
   "outputs": [
    {
     "name": "stdout",
     "output_type": "stream",
     "text": [
      "Importing images of daisy flowers\n",
      "Imported 769 images of daisy flowers\n"
     ]
    }
   ],
   "source": [
    "print(\"Importing images of daisy flowers\")\n",
    "\n",
    "SOURCE_IMAGES = os.path.join(PATH, \"/home/aishikroy13/flowers/daisy\")\n",
    "\n",
    "\n",
    "daisy = glob(os.path.join(SOURCE_IMAGES, \"*.jpg\"))\n",
    "\n",
    "\n",
    "\n",
    "i = 0\n",
    "while i < len(daisy):\n",
    "    labels.append(\"daisy\")\n",
    "    flowers.append(daisy[i])\n",
    "    i += 1\n",
    "    total += 1\n",
    "\n",
    "print(\"Imported \"+ str(i) + \" images of daisy flowers\")"
   ]
  },
  {
   "cell_type": "code",
   "execution_count": 8,
   "metadata": {},
   "outputs": [
    {
     "name": "stdout",
     "output_type": "stream",
     "text": [
      "Imported 1052 images of dandelion flowers\n"
     ]
    }
   ],
   "source": [
    "SOURCE_IMAGES = os.path.join(PATH, \"/home/aishikroy13/flowers/dandelion\")\n",
    "\n",
    "\n",
    "dandelion = glob(os.path.join(SOURCE_IMAGES, \"*.jpg\"))\n",
    "\n",
    "\n",
    "i = 0\n",
    "while i < len(dandelion):\n",
    "    labels.append(\"dandelion\")\n",
    "    flowers.append(dandelion[i])\n",
    "    i += 1\n",
    "    total += 1\n",
    "    \n",
    "print(\"Imported \"+ str(i) + \" images of dandelion flowers\")"
   ]
  },
  {
   "cell_type": "code",
   "execution_count": 9,
   "metadata": {},
   "outputs": [
    {
     "name": "stdout",
     "output_type": "stream",
     "text": [
      "Imported 784 images of rose flowers\n"
     ]
    }
   ],
   "source": [
    "SOURCE_IMAGES = os.path.join(PATH, \"/home/aishikroy13/flowers/rose\")\n",
    "\n",
    "\n",
    "rose = glob(os.path.join(SOURCE_IMAGES, \"*.jpg\"))\n",
    "\n",
    "\n",
    "\n",
    "i = 0\n",
    "while i < len(rose):\n",
    "    labels.append(\"rose\")\n",
    "    flowers.append(rose[i])\n",
    "    i += 1\n",
    "    total += 1\n",
    "\n",
    "print(\"Imported \"+ str(i) + \" images of rose flowers\")"
   ]
  },
  {
   "cell_type": "code",
   "execution_count": 10,
   "metadata": {},
   "outputs": [
    {
     "name": "stdout",
     "output_type": "stream",
     "text": [
      "Imported 734 images of sunflowers flowers\n"
     ]
    }
   ],
   "source": [
    "SOURCE_IMAGES = os.path.join(PATH, \"/home/aishikroy13/flowers/sunflower\")\n",
    "\n",
    "\n",
    "sunflower = glob(os.path.join(SOURCE_IMAGES, \"*.jpg\"))\n",
    "\n",
    "\n",
    "\n",
    "i = 0\n",
    "while i < len(sunflower):\n",
    "    labels.append(\"sunflower\")\n",
    "    flowers.append(sunflower[i])\n",
    "    i += 1\n",
    "    total += 1\n",
    "\n",
    "print(\"Imported \"+ str(i) + \" images of sunflowers flowers\")"
   ]
  },
  {
   "cell_type": "code",
   "execution_count": 11,
   "metadata": {},
   "outputs": [
    {
     "name": "stdout",
     "output_type": "stream",
     "text": [
      "Imported 984 images of tulip flowers\n",
      "Totals:\n",
      "Imported 4323 images in total\n"
     ]
    }
   ],
   "source": [
    "SOURCE_IMAGES = os.path.join(PATH, \"/home/aishikroy13/flowers/tulip\")\n",
    "\n",
    "\n",
    "tulip = glob(os.path.join(SOURCE_IMAGES, \"*.jpg\"))\n",
    "\n",
    "\n",
    "\n",
    "i = 0\n",
    "while i < len(tulip):\n",
    "    labels.append(\"tulip\")\n",
    "    flowers.append(tulip[i])\n",
    "    i += 1\n",
    "    total += 1\n",
    "\n",
    "print(\"Imported \"+ str(i) + \" images of tulip flowers\")\n",
    "print(\"Totals:\")\n",
    "print(\"Imported \" + str(total) + \" images in total\")"
   ]
  },
  {
   "cell_type": "code",
   "execution_count": 12,
   "metadata": {},
   "outputs": [],
   "source": [
    "def proc_images():\n",
    "\n",
    "    x = [] \n",
    "    y = [] \n",
    "    WIDTH = 240\n",
    "    HEIGHT = 240\n",
    "    n = 0\n",
    "\n",
    "    for img in flowers:\n",
    "        base = os.path.basename(img)\n",
    "\n",
    "     \n",
    "        full_size_image = cv2.imread(img)\n",
    "        x.append(cv2.resize(full_size_image, (WIDTH,HEIGHT), interpolation=cv2.INTER_CUBIC))\n",
    "        y.append(labels[n])\n",
    "        n += 1\n",
    "\n",
    "    print(\"Resized \"+ str(n) + \" images\")\n",
    "    return x,y "
   ]
  },
  {
   "cell_type": "code",
   "execution_count": 13,
   "metadata": {},
   "outputs": [
    {
     "name": "stdout",
     "output_type": "stream",
     "text": [
      "Resizing Images...\n",
      "Resized 4323 images\n"
     ]
    }
   ],
   "source": [
    "print(\"Resizing Images...\")\n",
    "x,y = proc_images()"
   ]
  },
  {
   "cell_type": "code",
   "execution_count": 14,
   "metadata": {},
   "outputs": [
    {
     "name": "stdout",
     "output_type": "stream",
     "text": [
      "Saving flower datasets as a NPZ files...\n"
     ]
    }
   ],
   "source": [
    "df = pd.DataFrame()\n",
    "df[\"labels\"]=y\n",
    "df[\"flowers\"]=x\n",
    "\n",
    "\n",
    "print(\"Saving flower datasets as a NPZ files...\")\n",
    "np.savez(\"flowers\", x)\n",
    "np.savez(\"labels\", y)         \n",
    "    \n",
    "\n"
   ]
  },
  {
   "cell_type": "code",
   "execution_count": 15,
   "metadata": {},
   "outputs": [
    {
     "name": "stdout",
     "output_type": "stream",
     "text": [
      "admin\r\n",
      "build\r\n",
      "clean.bat\r\n",
      "clean.sh\r\n",
      "cmake\r\n",
      "CMakeLists.txt\r\n",
      "exe\r\n",
      "extra\r\n",
      "flowers.npz\r\n",
      "install\r\n",
      "install.bat\r\n",
      "install-deps\r\n",
      "install-deps.bat\r\n",
      "install.sh\r\n",
      "labels.npz\r\n",
      "LICENSE.md\r\n",
      "pkg\r\n",
      "README.md\r\n",
      "test.bat\r\n",
      "test.sh\r\n",
      "travis_cuda_install.sh\r\n",
      "uninstall.bat\r\n",
      "Untitled1.ipynb\r\n",
      "Untitled2.ipynb\r\n",
      "Untitled3.ipynb\r\n",
      "Untitled.ipynb\r\n",
      "update.sh\r\n",
      "win-files\r\n"
     ]
    }
   ],
   "source": [
    "!ls -1"
   ]
  },
  {
   "cell_type": "code",
   "execution_count": 16,
   "metadata": {},
   "outputs": [
    {
     "name": "stdout",
     "output_type": "stream",
     "text": [
      "Flower classification..\n"
     ]
    }
   ],
   "source": [
    "print(\"Flower classification..\")"
   ]
  },
  {
   "cell_type": "code",
   "execution_count": 17,
   "metadata": {},
   "outputs": [
    {
     "name": "stderr",
     "output_type": "stream",
     "text": [
      "/home/aishikroy13/anaconda3/lib/python3.6/site-packages/h5py/__init__.py:36: FutureWarning: Conversion of the second argument of issubdtype from `float` to `np.floating` is deprecated. In future, it will be treated as `np.float64 == np.dtype(float).type`.\n",
      "  from ._conv import register_converters as _register_converters\n"
     ]
    }
   ],
   "source": [
    "import tensorflow as tf\n",
    "from tensorflow import keras\n",
    "import matplotlib.pyplot as plt\n",
    "import numpy as np\n",
    "from os import listdir\n",
    "from os.path import join\n",
    "import cv2\n",
    "import pandas\n",
    "import os\n",
    "import random"
   ]
  },
  {
   "cell_type": "code",
   "execution_count": 19,
   "metadata": {},
   "outputs": [
    {
     "name": "stdout",
     "output_type": "stream",
     "text": [
      "['rose', 'dandelion', 'tulip', 'sunflower', 'daisy']\n"
     ]
    }
   ],
   "source": [
    "data = \"/home/aishikroy13/flowers\"\n",
    "folders = os.listdir(data)\n",
    "print(folders)"
   ]
  },
  {
   "cell_type": "code",
   "execution_count": 20,
   "metadata": {},
   "outputs": [],
   "source": [
    "image_names = []\n",
    "train_labels = []\n",
    "train_images = []\n",
    "size = 64,64\n",
    "for folder in folders:\n",
    "    for file in os.listdir(os.path.join(data,folder)):\n",
    "        if file.endswith(\"jpg\"):\n",
    "            image_names.append(os.path.join(data,folder,file))\n",
    "            train_labels.append(folder)\n",
    "            img = cv2.imread(os.path.join(data,folder,file))\n",
    "            im = cv2.resize(img,size)\n",
    "            train_images.append(im)\n",
    "        else:\n",
    "            continue"
   ]
  },
  {
   "cell_type": "code",
   "execution_count": 21,
   "metadata": {},
   "outputs": [
    {
     "data": {
      "text/plain": [
       "(4323, 64, 64, 3)"
      ]
     },
     "execution_count": 21,
     "metadata": {},
     "output_type": "execute_result"
    }
   ],
   "source": [
    "train = np.array(train_images)\n",
    "train.shape"
   ]
  },
  {
   "cell_type": "code",
   "execution_count": 22,
   "metadata": {},
   "outputs": [],
   "source": [
    "train = train.astype('float32') / 255.0"
   ]
  },
  {
   "cell_type": "code",
   "execution_count": 23,
   "metadata": {},
   "outputs": [],
   "source": [
    "label_dummies = pandas.get_dummies(train_labels)\n",
    "labels =  label_dummies.values.argmax(1)"
   ]
  },
  {
   "cell_type": "code",
   "execution_count": 24,
   "metadata": {},
   "outputs": [
    {
     "data": {
      "text/plain": [
       "array(['rose', 'dandelion', 'tulip', 'sunflower', 'daisy'], dtype=object)"
      ]
     },
     "execution_count": 24,
     "metadata": {},
     "output_type": "execute_result"
    }
   ],
   "source": [
    "pandas.unique(train_labels)"
   ]
  },
  {
   "cell_type": "code",
   "execution_count": 25,
   "metadata": {},
   "outputs": [],
   "source": [
    "union_list = list(zip(train, labels))\n",
    "random.shuffle(union_list)\n",
    "train,labels = zip(*union_list)\n",
    "train = np.array(train)\n",
    "labels = np.array(labels)"
   ]
  },
  {
   "cell_type": "code",
   "execution_count": 26,
   "metadata": {},
   "outputs": [],
   "source": [
    "model = keras.Sequential([\n",
    "    keras.layers.Flatten(input_shape=(64,64,3)),\n",
    "    keras.layers.Dense(128, activation=tf.nn.tanh),\n",
    "    keras.layers.Dense(5, activation=tf.nn.softmax)\n",
    "])"
   ]
  },
  {
   "cell_type": "code",
   "execution_count": 27,
   "metadata": {},
   "outputs": [],
   "source": [
    "model.compile(optimizer=tf.train.AdamOptimizer(), \n",
    "              loss='sparse_categorical_crossentropy',\n",
    "              metrics=['accuracy'])"
   ]
  },
  {
   "cell_type": "code",
   "execution_count": 28,
   "metadata": {},
   "outputs": [
    {
     "name": "stdout",
     "output_type": "stream",
     "text": [
      "Epoch 1/5\n",
      "4323/4323 [==============================] - 3s 714us/step - loss: 2.7040 - acc: 0.2586\n",
      "Epoch 2/5\n",
      "4323/4323 [==============================] - 2s 379us/step - loss: 1.5352 - acc: 0.3192\n",
      "Epoch 3/5\n",
      "4323/4323 [==============================] - 2s 384us/step - loss: 1.5113 - acc: 0.3107\n",
      "Epoch 4/5\n",
      "4323/4323 [==============================] - 2s 380us/step - loss: 1.4642 - acc: 0.3604\n",
      "Epoch 5/5\n",
      "4323/4323 [==============================] - 2s 383us/step - loss: 1.4528 - acc: 0.3368\n"
     ]
    },
    {
     "data": {
      "text/plain": [
       "<tensorflow.python.keras.callbacks.History at 0x7f426a0930b8>"
      ]
     },
     "execution_count": 28,
     "metadata": {},
     "output_type": "execute_result"
    }
   ],
   "source": [
    "model.fit(train,labels, epochs=5)"
   ]
  },
  {
   "cell_type": "code",
   "execution_count": null,
   "metadata": {},
   "outputs": [],
   "source": []
  }
 ],
 "metadata": {
  "kernelspec": {
   "display_name": "Python 3",
   "language": "python",
   "name": "python3"
  },
  "language_info": {
   "codemirror_mode": {
    "name": "ipython",
    "version": 3
   },
   "file_extension": ".py",
   "mimetype": "text/x-python",
   "name": "python",
   "nbconvert_exporter": "python",
   "pygments_lexer": "ipython3",
   "version": "3.6.5"
  }
 },
 "nbformat": 4,
 "nbformat_minor": 2
}
